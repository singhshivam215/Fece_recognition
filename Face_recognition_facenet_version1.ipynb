{
  "nbformat": 4,
  "nbformat_minor": 0,
  "metadata": {
    "colab": {
      "name": "Face_recognition_facenet.ipynb",
      "provenance": [],
      "collapsed_sections": [],
      "toc_visible": true
    },
    "kernelspec": {
      "name": "python3",
      "display_name": "Python 3"
    }
  },
  "cells": [
    {
      "cell_type": "markdown",
      "metadata": {
        "id": "V30k8C6D5V4L",
        "colab_type": "text"
      },
      "source": [
        "# Etape1:Extraction des images"
      ]
    },
    {
      "cell_type": "markdown",
      "metadata": {
        "id": "gzoeqRXDBq9X",
        "colab_type": "text"
      },
      "source": [
        "# Input:Une base de données de vidéos\n",
        "\n",
        "\n"
      ]
    },
    {
      "cell_type": "code",
      "metadata": {
        "id": "umNDgjrdS-in",
        "colab_type": "code",
        "outputId": "635972fa-6ef7-43e4-eb51-caac5b4b31b9",
        "colab": {
          "base_uri": "https://localhost:8080/",
          "height": 34
        }
      },
      "source": [
        "from PIL import Image\n",
        "from os import listdir\n",
        "from os.path import isfile, join\n",
        "import cv2\n",
        "import os\n",
        "from pathlib import Path\n",
        "from os.path import basename\n",
        "def getFrame(sec):\n",
        "    dir=listdir('/content/data')\n",
        "    for i in range(len(dir)):\n",
        "\n",
        "      dd=os.path.join('/content/data', dir[i])\n",
        "      vidcap.set(cv2.CAP_PROP_POS_MSEC,sec*1000)\n",
        "      hasFrames,image = vidcap.read()\n",
        "    \n",
        "      if hasFrames:\n",
        "\n",
        "         cv2.imwrite(str(x)+'/'+label+str(count)+\".jpg\", image)     # save frame as JPG file\n",
        "    return hasFrames\n",
        "\n",
        "mypath = \"/content/drive/My Drive/face_dataset/video_input\"\n",
        "\n",
        "videosFiles = [ f for f in listdir(mypath) if isfile(join(mypath,f)) and (f.endswith((\"mp4\")) or f.endswith((\"vip\"))) ]\n",
        "\n",
        "count=1\n",
        "for vid in videosFiles:\n",
        "    y=list()\n",
        "    label,extent=os.path.splitext(vid)\n",
        "    y.append(label)\n",
        "    vidcap = cv2.VideoCapture(join(mypath,vid)) \n",
        "    try:\n",
        "\n",
        "      if not os.path.exists('data'+'/'+label): \n",
        "\n",
        "\t\t       os.makedirs('data'+'/'+label) \n",
        "\n",
        "    except OSError: \n",
        "         \n",
        "\t    print ('Error: Creating directory of data')\n",
        "    dd=os.path.join('/content/data',label)\n",
        "    x=Path(dd)\n",
        "\n",
        "    sec = 0\n",
        "    frameRate = 0.5 #//it will capture image in each 2 second\n",
        "    success = getFrame(sec)\n",
        "    while success:\n",
        "      count = count + 1\n",
        "      sec = sec + frameRate\n",
        "      sec = round(sec, 2)\n",
        "      success = getFrame(sec)\n",
        "print('Done!!') "
      ],
      "execution_count": 1,
      "outputs": [
        {
          "output_type": "stream",
          "text": [
            "Done!!\n"
          ],
          "name": "stdout"
        }
      ]
    },
    {
      "cell_type": "markdown",
      "metadata": {
        "id": "WbwZLZcfh1-H",
        "colab_type": "text"
      },
      "source": [
        "# Détection"
      ]
    },
    {
      "cell_type": "code",
      "metadata": {
        "id": "OikaRX2P-5_N",
        "colab_type": "code",
        "outputId": "86fe3178-d0e3-4f46-d52f-4d079adad30f",
        "colab": {
          "base_uri": "https://localhost:8080/",
          "height": 275
        }
      },
      "source": [
        "pip install mtcnn"
      ],
      "execution_count": 2,
      "outputs": [
        {
          "output_type": "stream",
          "text": [
            "Collecting mtcnn\n",
            "\u001b[?25l  Downloading https://files.pythonhosted.org/packages/67/43/abee91792797c609c1bf30f1112117f7a87a713ebaa6ec5201d5555a73ef/mtcnn-0.1.0-py3-none-any.whl (2.3MB)\n",
            "\r\u001b[K     |▏                               | 10kB 17.3MB/s eta 0:00:01\r\u001b[K     |▎                               | 20kB 1.5MB/s eta 0:00:02\r\u001b[K     |▍                               | 30kB 2.0MB/s eta 0:00:02\r\u001b[K     |▋                               | 40kB 1.5MB/s eta 0:00:02\r\u001b[K     |▊                               | 51kB 1.9MB/s eta 0:00:02\r\u001b[K     |▉                               | 61kB 2.1MB/s eta 0:00:02\r\u001b[K     |█                               | 71kB 2.3MB/s eta 0:00:01\r\u001b[K     |█▏                              | 81kB 2.5MB/s eta 0:00:01\r\u001b[K     |█▎                              | 92kB 2.7MB/s eta 0:00:01\r\u001b[K     |█▌                              | 102kB 2.6MB/s eta 0:00:01\r\u001b[K     |█▋                              | 112kB 2.6MB/s eta 0:00:01\r\u001b[K     |█▊                              | 122kB 2.6MB/s eta 0:00:01\r\u001b[K     |█▉                              | 133kB 2.6MB/s eta 0:00:01\r\u001b[K     |██                              | 143kB 2.6MB/s eta 0:00:01\r\u001b[K     |██▏                             | 153kB 2.6MB/s eta 0:00:01\r\u001b[K     |██▎                             | 163kB 2.6MB/s eta 0:00:01\r\u001b[K     |██▌                             | 174kB 2.6MB/s eta 0:00:01\r\u001b[K     |██▋                             | 184kB 2.6MB/s eta 0:00:01\r\u001b[K     |██▊                             | 194kB 2.6MB/s eta 0:00:01\r\u001b[K     |███                             | 204kB 2.6MB/s eta 0:00:01\r\u001b[K     |███                             | 215kB 2.6MB/s eta 0:00:01\r\u001b[K     |███▏                            | 225kB 2.6MB/s eta 0:00:01\r\u001b[K     |███▍                            | 235kB 2.6MB/s eta 0:00:01\r\u001b[K     |███▌                            | 245kB 2.6MB/s eta 0:00:01\r\u001b[K     |███▋                            | 256kB 2.6MB/s eta 0:00:01\r\u001b[K     |███▊                            | 266kB 2.6MB/s eta 0:00:01\r\u001b[K     |████                            | 276kB 2.6MB/s eta 0:00:01\r\u001b[K     |████                            | 286kB 2.6MB/s eta 0:00:01\r\u001b[K     |████▏                           | 296kB 2.6MB/s eta 0:00:01\r\u001b[K     |████▍                           | 307kB 2.6MB/s eta 0:00:01\r\u001b[K     |████▌                           | 317kB 2.6MB/s eta 0:00:01\r\u001b[K     |████▋                           | 327kB 2.6MB/s eta 0:00:01\r\u001b[K     |████▉                           | 337kB 2.6MB/s eta 0:00:01\r\u001b[K     |█████                           | 348kB 2.6MB/s eta 0:00:01\r\u001b[K     |█████                           | 358kB 2.6MB/s eta 0:00:01\r\u001b[K     |█████▏                          | 368kB 2.6MB/s eta 0:00:01\r\u001b[K     |█████▍                          | 378kB 2.6MB/s eta 0:00:01\r\u001b[K     |█████▌                          | 389kB 2.6MB/s eta 0:00:01\r\u001b[K     |█████▋                          | 399kB 2.6MB/s eta 0:00:01\r\u001b[K     |█████▉                          | 409kB 2.6MB/s eta 0:00:01\r\u001b[K     |██████                          | 419kB 2.6MB/s eta 0:00:01\r\u001b[K     |██████                          | 430kB 2.6MB/s eta 0:00:01\r\u001b[K     |██████▎                         | 440kB 2.6MB/s eta 0:00:01\r\u001b[K     |██████▍                         | 450kB 2.6MB/s eta 0:00:01\r\u001b[K     |██████▌                         | 460kB 2.6MB/s eta 0:00:01\r\u001b[K     |██████▊                         | 471kB 2.6MB/s eta 0:00:01\r\u001b[K     |██████▉                         | 481kB 2.6MB/s eta 0:00:01\r\u001b[K     |███████                         | 491kB 2.6MB/s eta 0:00:01\r\u001b[K     |███████                         | 501kB 2.6MB/s eta 0:00:01\r\u001b[K     |███████▎                        | 512kB 2.6MB/s eta 0:00:01\r\u001b[K     |███████▍                        | 522kB 2.6MB/s eta 0:00:01\r\u001b[K     |███████▌                        | 532kB 2.6MB/s eta 0:00:01\r\u001b[K     |███████▊                        | 542kB 2.6MB/s eta 0:00:01\r\u001b[K     |███████▉                        | 552kB 2.6MB/s eta 0:00:01\r\u001b[K     |████████                        | 563kB 2.6MB/s eta 0:00:01\r\u001b[K     |████████▏                       | 573kB 2.6MB/s eta 0:00:01\r\u001b[K     |████████▎                       | 583kB 2.6MB/s eta 0:00:01\r\u001b[K     |████████▍                       | 593kB 2.6MB/s eta 0:00:01\r\u001b[K     |████████▌                       | 604kB 2.6MB/s eta 0:00:01\r\u001b[K     |████████▊                       | 614kB 2.6MB/s eta 0:00:01\r\u001b[K     |████████▉                       | 624kB 2.6MB/s eta 0:00:01\r\u001b[K     |█████████                       | 634kB 2.6MB/s eta 0:00:01\r\u001b[K     |█████████▏                      | 645kB 2.6MB/s eta 0:00:01\r\u001b[K     |█████████▎                      | 655kB 2.6MB/s eta 0:00:01\r\u001b[K     |█████████▍                      | 665kB 2.6MB/s eta 0:00:01\r\u001b[K     |█████████▋                      | 675kB 2.6MB/s eta 0:00:01\r\u001b[K     |█████████▊                      | 686kB 2.6MB/s eta 0:00:01\r\u001b[K     |█████████▉                      | 696kB 2.6MB/s eta 0:00:01\r\u001b[K     |██████████                      | 706kB 2.6MB/s eta 0:00:01\r\u001b[K     |██████████▏                     | 716kB 2.6MB/s eta 0:00:01\r\u001b[K     |██████████▎                     | 727kB 2.6MB/s eta 0:00:01\r\u001b[K     |██████████▍                     | 737kB 2.6MB/s eta 0:00:01\r\u001b[K     |██████████▋                     | 747kB 2.6MB/s eta 0:00:01\r\u001b[K     |██████████▊                     | 757kB 2.6MB/s eta 0:00:01\r\u001b[K     |██████████▉                     | 768kB 2.6MB/s eta 0:00:01\r\u001b[K     |███████████                     | 778kB 2.6MB/s eta 0:00:01\r\u001b[K     |███████████▏                    | 788kB 2.6MB/s eta 0:00:01\r\u001b[K     |███████████▎                    | 798kB 2.6MB/s eta 0:00:01\r\u001b[K     |███████████▌                    | 808kB 2.6MB/s eta 0:00:01\r\u001b[K     |███████████▋                    | 819kB 2.6MB/s eta 0:00:01\r\u001b[K     |███████████▊                    | 829kB 2.6MB/s eta 0:00:01\r\u001b[K     |███████████▉                    | 839kB 2.6MB/s eta 0:00:01\r\u001b[K     |████████████                    | 849kB 2.6MB/s eta 0:00:01\r\u001b[K     |████████████▏                   | 860kB 2.6MB/s eta 0:00:01\r\u001b[K     |████████████▎                   | 870kB 2.6MB/s eta 0:00:01\r\u001b[K     |████████████▌                   | 880kB 2.6MB/s eta 0:00:01\r\u001b[K     |████████████▋                   | 890kB 2.6MB/s eta 0:00:01\r\u001b[K     |████████████▊                   | 901kB 2.6MB/s eta 0:00:01\r\u001b[K     |█████████████                   | 911kB 2.6MB/s eta 0:00:01\r\u001b[K     |█████████████                   | 921kB 2.6MB/s eta 0:00:01\r\u001b[K     |█████████████▏                  | 931kB 2.6MB/s eta 0:00:01\r\u001b[K     |█████████████▍                  | 942kB 2.6MB/s eta 0:00:01\r\u001b[K     |█████████████▌                  | 952kB 2.6MB/s eta 0:00:01\r\u001b[K     |█████████████▋                  | 962kB 2.6MB/s eta 0:00:01\r\u001b[K     |█████████████▊                  | 972kB 2.6MB/s eta 0:00:01\r\u001b[K     |██████████████                  | 983kB 2.6MB/s eta 0:00:01\r\u001b[K     |██████████████                  | 993kB 2.6MB/s eta 0:00:01\r\u001b[K     |██████████████▏                 | 1.0MB 2.6MB/s eta 0:00:01\r\u001b[K     |██████████████▍                 | 1.0MB 2.6MB/s eta 0:00:01\r\u001b[K     |██████████████▌                 | 1.0MB 2.6MB/s eta 0:00:01\r\u001b[K     |██████████████▋                 | 1.0MB 2.6MB/s eta 0:00:01\r\u001b[K     |██████████████▉                 | 1.0MB 2.6MB/s eta 0:00:01\r\u001b[K     |███████████████                 | 1.1MB 2.6MB/s eta 0:00:01\r\u001b[K     |███████████████                 | 1.1MB 2.6MB/s eta 0:00:01\r\u001b[K     |███████████████▏                | 1.1MB 2.6MB/s eta 0:00:01\r\u001b[K     |███████████████▍                | 1.1MB 2.6MB/s eta 0:00:01\r\u001b[K     |███████████████▌                | 1.1MB 2.6MB/s eta 0:00:01\r\u001b[K     |███████████████▋                | 1.1MB 2.6MB/s eta 0:00:01\r\u001b[K     |███████████████▉                | 1.1MB 2.6MB/s eta 0:00:01\r\u001b[K     |████████████████                | 1.1MB 2.6MB/s eta 0:00:01\r\u001b[K     |████████████████                | 1.1MB 2.6MB/s eta 0:00:01\r\u001b[K     |████████████████▎               | 1.1MB 2.6MB/s eta 0:00:01\r\u001b[K     |████████████████▍               | 1.2MB 2.6MB/s eta 0:00:01\r\u001b[K     |████████████████▌               | 1.2MB 2.6MB/s eta 0:00:01\r\u001b[K     |████████████████▊               | 1.2MB 2.6MB/s eta 0:00:01\r\u001b[K     |████████████████▉               | 1.2MB 2.6MB/s eta 0:00:01\r\u001b[K     |█████████████████               | 1.2MB 2.6MB/s eta 0:00:01\r\u001b[K     |█████████████████               | 1.2MB 2.6MB/s eta 0:00:01\r\u001b[K     |█████████████████▎              | 1.2MB 2.6MB/s eta 0:00:01\r\u001b[K     |█████████████████▍              | 1.2MB 2.6MB/s eta 0:00:01\r\u001b[K     |█████████████████▌              | 1.2MB 2.6MB/s eta 0:00:01\r\u001b[K     |█████████████████▊              | 1.2MB 2.6MB/s eta 0:00:01\r\u001b[K     |█████████████████▉              | 1.3MB 2.6MB/s eta 0:00:01\r\u001b[K     |██████████████████              | 1.3MB 2.6MB/s eta 0:00:01\r\u001b[K     |██████████████████▏             | 1.3MB 2.6MB/s eta 0:00:01\r\u001b[K     |██████████████████▎             | 1.3MB 2.6MB/s eta 0:00:01\r\u001b[K     |██████████████████▍             | 1.3MB 2.6MB/s eta 0:00:01\r\u001b[K     |██████████████████▋             | 1.3MB 2.6MB/s eta 0:00:01\r\u001b[K     |██████████████████▊             | 1.3MB 2.6MB/s eta 0:00:01\r\u001b[K     |██████████████████▉             | 1.3MB 2.6MB/s eta 0:00:01\r\u001b[K     |███████████████████             | 1.3MB 2.6MB/s eta 0:00:01\r\u001b[K     |███████████████████▏            | 1.4MB 2.6MB/s eta 0:00:01\r\u001b[K     |███████████████████▎            | 1.4MB 2.6MB/s eta 0:00:01\r\u001b[K     |███████████████████▍            | 1.4MB 2.6MB/s eta 0:00:01\r\u001b[K     |███████████████████▋            | 1.4MB 2.6MB/s eta 0:00:01\r\u001b[K     |███████████████████▊            | 1.4MB 2.6MB/s eta 0:00:01\r\u001b[K     |███████████████████▉            | 1.4MB 2.6MB/s eta 0:00:01\r\u001b[K     |████████████████████            | 1.4MB 2.6MB/s eta 0:00:01\r\u001b[K     |████████████████████▏           | 1.4MB 2.6MB/s eta 0:00:01\r\u001b[K     |████████████████████▎           | 1.4MB 2.6MB/s eta 0:00:01\r\u001b[K     |████████████████████▍           | 1.4MB 2.6MB/s eta 0:00:01\r\u001b[K     |████████████████████▋           | 1.5MB 2.6MB/s eta 0:00:01\r\u001b[K     |████████████████████▊           | 1.5MB 2.6MB/s eta 0:00:01\r\u001b[K     |████████████████████▉           | 1.5MB 2.6MB/s eta 0:00:01\r\u001b[K     |█████████████████████           | 1.5MB 2.6MB/s eta 0:00:01\r\u001b[K     |█████████████████████▏          | 1.5MB 2.6MB/s eta 0:00:01\r\u001b[K     |█████████████████████▎          | 1.5MB 2.6MB/s eta 0:00:01\r\u001b[K     |█████████████████████▌          | 1.5MB 2.6MB/s eta 0:00:01\r\u001b[K     |█████████████████████▋          | 1.5MB 2.6MB/s eta 0:00:01\r\u001b[K     |█████████████████████▊          | 1.5MB 2.6MB/s eta 0:00:01\r\u001b[K     |██████████████████████          | 1.5MB 2.6MB/s eta 0:00:01\r\u001b[K     |██████████████████████          | 1.6MB 2.6MB/s eta 0:00:01\r\u001b[K     |██████████████████████▏         | 1.6MB 2.6MB/s eta 0:00:01\r\u001b[K     |██████████████████████▎         | 1.6MB 2.6MB/s eta 0:00:01\r\u001b[K     |██████████████████████▌         | 1.6MB 2.6MB/s eta 0:00:01\r\u001b[K     |██████████████████████▋         | 1.6MB 2.6MB/s eta 0:00:01\r\u001b[K     |██████████████████████▊         | 1.6MB 2.6MB/s eta 0:00:01\r\u001b[K     |███████████████████████         | 1.6MB 2.6MB/s eta 0:00:01\r\u001b[K     |███████████████████████         | 1.6MB 2.6MB/s eta 0:00:01\r\u001b[K     |███████████████████████▏        | 1.6MB 2.6MB/s eta 0:00:01\r\u001b[K     |███████████████████████▍        | 1.6MB 2.6MB/s eta 0:00:01\r\u001b[K     |███████████████████████▌        | 1.7MB 2.6MB/s eta 0:00:01\r\u001b[K     |███████████████████████▋        | 1.7MB 2.6MB/s eta 0:00:01\r\u001b[K     |███████████████████████▊        | 1.7MB 2.6MB/s eta 0:00:01\r\u001b[K     |████████████████████████        | 1.7MB 2.6MB/s eta 0:00:01\r\u001b[K     |████████████████████████        | 1.7MB 2.6MB/s eta 0:00:01\r\u001b[K     |████████████████████████▏       | 1.7MB 2.6MB/s eta 0:00:01\r\u001b[K     |████████████████████████▍       | 1.7MB 2.6MB/s eta 0:00:01\r\u001b[K     |████████████████████████▌       | 1.7MB 2.6MB/s eta 0:00:01\r\u001b[K     |████████████████████████▋       | 1.7MB 2.6MB/s eta 0:00:01\r\u001b[K     |████████████████████████▉       | 1.8MB 2.6MB/s eta 0:00:01\r\u001b[K     |█████████████████████████       | 1.8MB 2.6MB/s eta 0:00:01\r\u001b[K     |█████████████████████████       | 1.8MB 2.6MB/s eta 0:00:01\r\u001b[K     |█████████████████████████▎      | 1.8MB 2.6MB/s eta 0:00:01\r\u001b[K     |█████████████████████████▍      | 1.8MB 2.6MB/s eta 0:00:01\r\u001b[K     |█████████████████████████▌      | 1.8MB 2.6MB/s eta 0:00:01\r\u001b[K     |█████████████████████████▋      | 1.8MB 2.6MB/s eta 0:00:01\r\u001b[K     |█████████████████████████▉      | 1.8MB 2.6MB/s eta 0:00:01\r\u001b[K     |██████████████████████████      | 1.8MB 2.6MB/s eta 0:00:01\r\u001b[K     |██████████████████████████      | 1.8MB 2.6MB/s eta 0:00:01\r\u001b[K     |██████████████████████████▎     | 1.9MB 2.6MB/s eta 0:00:01\r\u001b[K     |██████████████████████████▍     | 1.9MB 2.6MB/s eta 0:00:01\r\u001b[K     |██████████████████████████▌     | 1.9MB 2.6MB/s eta 0:00:01\r\u001b[K     |██████████████████████████▊     | 1.9MB 2.6MB/s eta 0:00:01\r\u001b[K     |██████████████████████████▉     | 1.9MB 2.6MB/s eta 0:00:01\r\u001b[K     |███████████████████████████     | 1.9MB 2.6MB/s eta 0:00:01\r\u001b[K     |███████████████████████████     | 1.9MB 2.6MB/s eta 0:00:01\r\u001b[K     |███████████████████████████▎    | 1.9MB 2.6MB/s eta 0:00:01\r\u001b[K     |███████████████████████████▍    | 1.9MB 43kB/s eta 0:00:08\r\u001b[K     |███████████████████████████▌    | 1.9MB 43kB/s eta 0:00:08\r\u001b[K     |███████████████████████████▊    | 2.0MB 43kB/s eta 0:00:08\r\u001b[K     |███████████████████████████▉    | 2.0MB 43kB/s eta 0:00:07\r\u001b[K     |████████████████████████████    | 2.0MB 43kB/s eta 0:00:07\r\u001b[K     |████████████████████████████▏   | 2.0MB 43kB/s eta 0:00:07\r\u001b[K     |████████████████████████████▎   | 2.0MB 43kB/s eta 0:00:07\r\u001b[K     |████████████████████████████▍   | 2.0MB 43kB/s eta 0:00:06\r\u001b[K     |████████████████████████████▋   | 2.0MB 43kB/s eta 0:00:06\r\u001b[K     |████████████████████████████▊   | 2.0MB 43kB/s eta 0:00:06\r\u001b[K     |████████████████████████████▉   | 2.0MB 43kB/s eta 0:00:06\r\u001b[K     |█████████████████████████████   | 2.0MB 43kB/s eta 0:00:05\r\u001b[K     |█████████████████████████████▏  | 2.1MB 43kB/s eta 0:00:05\r\u001b[K     |█████████████████████████████▎  | 2.1MB 43kB/s eta 0:00:05\r\u001b[K     |█████████████████████████████▍  | 2.1MB 43kB/s eta 0:00:05\r\u001b[K     |█████████████████████████████▋  | 2.1MB 43kB/s eta 0:00:04\r\u001b[K     |█████████████████████████████▊  | 2.1MB 43kB/s eta 0:00:04\r\u001b[K     |█████████████████████████████▉  | 2.1MB 43kB/s eta 0:00:04\r\u001b[K     |██████████████████████████████  | 2.1MB 43kB/s eta 0:00:04\r\u001b[K     |██████████████████████████████▏ | 2.1MB 43kB/s eta 0:00:04\r\u001b[K     |██████████████████████████████▎ | 2.1MB 43kB/s eta 0:00:03\r\u001b[K     |██████████████████████████████▍ | 2.2MB 43kB/s eta 0:00:03\r\u001b[K     |██████████████████████████████▋ | 2.2MB 43kB/s eta 0:00:03\r\u001b[K     |██████████████████████████████▊ | 2.2MB 43kB/s eta 0:00:03\r\u001b[K     |██████████████████████████████▉ | 2.2MB 43kB/s eta 0:00:02\r\u001b[K     |███████████████████████████████ | 2.2MB 43kB/s eta 0:00:02\r\u001b[K     |███████████████████████████████▏| 2.2MB 43kB/s eta 0:00:02\r\u001b[K     |███████████████████████████████▎| 2.2MB 43kB/s eta 0:00:02\r\u001b[K     |███████████████████████████████▌| 2.2MB 43kB/s eta 0:00:01\r\u001b[K     |███████████████████████████████▋| 2.2MB 43kB/s eta 0:00:01\r\u001b[K     |███████████████████████████████▊| 2.2MB 43kB/s eta 0:00:01\r\u001b[K     |████████████████████████████████| 2.3MB 43kB/s eta 0:00:01\r\u001b[K     |████████████████████████████████| 2.3MB 43kB/s \n",
            "\u001b[?25hRequirement already satisfied: keras>=2.0.0 in /usr/local/lib/python3.6/dist-packages (from mtcnn) (2.3.1)\n",
            "Requirement already satisfied: opencv-python>=4.1.0 in /usr/local/lib/python3.6/dist-packages (from mtcnn) (4.1.2.30)\n",
            "Requirement already satisfied: pyyaml in /usr/local/lib/python3.6/dist-packages (from keras>=2.0.0->mtcnn) (3.13)\n",
            "Requirement already satisfied: numpy>=1.9.1 in /usr/local/lib/python3.6/dist-packages (from keras>=2.0.0->mtcnn) (1.18.3)\n",
            "Requirement already satisfied: keras-applications>=1.0.6 in /usr/local/lib/python3.6/dist-packages (from keras>=2.0.0->mtcnn) (1.0.8)\n",
            "Requirement already satisfied: keras-preprocessing>=1.0.5 in /usr/local/lib/python3.6/dist-packages (from keras>=2.0.0->mtcnn) (1.1.0)\n",
            "Requirement already satisfied: scipy>=0.14 in /usr/local/lib/python3.6/dist-packages (from keras>=2.0.0->mtcnn) (1.4.1)\n",
            "Requirement already satisfied: h5py in /usr/local/lib/python3.6/dist-packages (from keras>=2.0.0->mtcnn) (2.10.0)\n",
            "Requirement already satisfied: six>=1.9.0 in /usr/local/lib/python3.6/dist-packages (from keras>=2.0.0->mtcnn) (1.12.0)\n",
            "Installing collected packages: mtcnn\n",
            "Successfully installed mtcnn-0.1.0\n"
          ],
          "name": "stdout"
        }
      ]
    },
    {
      "cell_type": "code",
      "metadata": {
        "id": "dYboWJLE24QR",
        "colab_type": "code",
        "colab": {}
      },
      "source": [
        "import numpy as np # linear algebra\n",
        "import pandas as pd \n",
        "import cv2 # opencv\n",
        "from mtcnn.mtcnn import MTCNN\n",
        "from matplotlib import pyplot as plt\n",
        "from keras.models import load_model\n",
        "from PIL import Image\n",
        "from os import listdir\n",
        "from os.path import isfile, join\n",
        "import os\n",
        "from PIL import ImageEnhance\n",
        "from PIL import  ImageFilter\n",
        "\n",
        "def extract_face(filename, required_size=(160, 160)):\n",
        "    # load image from file\n",
        "    image = Image.open(filename)\n",
        "    # processing\n",
        "    # convert to RGB, if needed\n",
        "    image = image.convert('RGB')\n",
        "   \n",
        "    # convert to array\n",
        "    pixels = np.asarray(image)\n",
        "    #pixels=cv2.filter2D(pixels, -1, np.array([[1 for i in range(3)] for j in range(3)], dtype = np.float) / 9)\n",
        "    # create the detector, using default weights\n",
        "    detector = MTCNN()\n",
        "    # detect faces in the image\n",
        "    results = detector.detect_faces(pixels)\n",
        "    # extract the bounding box from the first face\n",
        "    x1, y1, width, height = results[0]['box']\n",
        "    # deal with negative pixel index\n",
        "    x1, y1 = abs(x1), abs(y1)\n",
        "    x2, y2 = x1 + width, y1 + height\n",
        "    # extract the face\n",
        "    face = pixels[y1:y2, x1:x2]\n",
        "    # resize pixels to the model size\n",
        "    image = Image.fromarray(face)\n",
        "    image = image.resize(required_size)\n",
        "    face_array = np.asarray(image)\n",
        "    return face_array\n",
        "    "
      ],
      "execution_count": 0,
      "outputs": []
    },
    {
      "cell_type": "code",
      "metadata": {
        "id": "F3P1b_kBzBgv",
        "colab_type": "code",
        "colab": {}
      },
      "source": [
        ""
      ],
      "execution_count": 0,
      "outputs": []
    },
    {
      "cell_type": "markdown",
      "metadata": {
        "id": "7iaMvpkEz6rl",
        "colab_type": "text"
      },
      "source": [
        "# Split data"
      ]
    },
    {
      "cell_type": "code",
      "metadata": {
        "id": "irUq36gbCBxe",
        "colab_type": "code",
        "outputId": "c640f7c8-1db2-436b-8a04-3cf7714b312a",
        "colab": {
          "base_uri": "https://localhost:8080/",
          "height": 105
        }
      },
      "source": [
        "pip install split-folders"
      ],
      "execution_count": 4,
      "outputs": [
        {
          "output_type": "stream",
          "text": [
            "Collecting split-folders\n",
            "  Downloading https://files.pythonhosted.org/packages/20/67/29dda743e6d23ac1ea3d16704d8bbb48d65faf3f1b1eaf53153b3da56c56/split_folders-0.3.1-py3-none-any.whl\n",
            "Installing collected packages: split-folders\n",
            "Successfully installed split-folders-0.3.1\n"
          ],
          "name": "stdout"
        }
      ]
    },
    {
      "cell_type": "code",
      "metadata": {
        "id": "_h1GqmxYFGNO",
        "colab_type": "code",
        "outputId": "1a0bc10c-2d22-432f-944f-7d227b39b074",
        "colab": {
          "base_uri": "https://localhost:8080/",
          "height": 34
        }
      },
      "source": [
        "import split_folders\n",
        "\n",
        "# Split with a ratio.\n",
        "# To only split into training and validation set, set a tuple to `ratio`, i.e, `(.8, .2)`.\n",
        "split_folders.ratio('/content/data', output=\"output1\", seed=1337, ratio=(.8, .1, .1)) # default values\n",
        "\n"
      ],
      "execution_count": 5,
      "outputs": [
        {
          "output_type": "stream",
          "text": [
            "Copying files: 80 files [00:00, 2159.84 files/s]\n"
          ],
          "name": "stderr"
        }
      ]
    },
    {
      "cell_type": "markdown",
      "metadata": {
        "id": "SI7W_S4vLi4s",
        "colab_type": "text"
      },
      "source": [
        "# Téléchargement de données"
      ]
    },
    {
      "cell_type": "code",
      "metadata": {
        "id": "vMINKaIn3Pzz",
        "colab_type": "code",
        "colab": {
          "base_uri": "https://localhost:8080/",
          "height": 187
        },
        "outputId": "1a91ffb2-527e-4835-c9d3-6ab9eb713acd"
      },
      "source": [
        "def load_face(dir):\n",
        "    faces = list()\n",
        "    # enumerate files\n",
        "    for filename in os.listdir(dir):\n",
        "        path = dir + filename\n",
        "        face = extract_face(path)\n",
        "        faces.append(face)\n",
        "    return faces\n",
        "\n",
        "def load_dataset(dir):\n",
        "    # list for faces and labels\n",
        "    X, y = list(), list()\n",
        "    for subdir in os.listdir(dir):\n",
        "        path = dir + subdir + '/'\n",
        "        faces = load_face(path)\n",
        "        labels = [subdir for i in range(len(faces))]\n",
        "        print(\"loaded %d sample for class: %s\" % (len(faces),subdir) ) # print progress\n",
        "        X.extend(faces)\n",
        "        y.extend(labels)\n",
        "    return np.asarray(X), np.asarray(y)\n",
        "\n",
        "\n",
        "# load train dataset\n",
        "trainX, trainy = load_dataset('/content/output1/train/')\n",
        "print(trainX.shape, trainy.shape)\n",
        "# load test dataset\n",
        "testX, testy = load_dataset('/content/output1/test/')\n",
        "print(testX.shape, testy.shape)\n",
        "\n",
        "# save and compress the dataset for further use\n",
        "np.savez_compressed('videos-faces-dataset.npz', trainX, trainy, testX, testy)"
      ],
      "execution_count": 58,
      "outputs": [
        {
          "output_type": "stream",
          "text": [
            "loaded 16 sample for class: Locas\n",
            "loaded 16 sample for class: yousra\n",
            "loaded 16 sample for class: jenniffer\n",
            "loaded 16 sample for class: alix\n",
            "(64, 160, 160, 3) (64,)\n",
            "loaded 2 sample for class: Locas\n",
            "loaded 2 sample for class: yousra\n",
            "loaded 2 sample for class: jenniffer\n",
            "loaded 2 sample for class: alix\n",
            "(8, 160, 160, 3) (8,)\n"
          ],
          "name": "stdout"
        }
      ]
    },
    {
      "cell_type": "code",
      "metadata": {
        "id": "XJt0ucBS3o2I",
        "colab_type": "code",
        "colab": {
          "base_uri": "https://localhost:8080/",
          "height": 34
        },
        "outputId": "a2d29fb2-ae77-4819-ecd0-8aa173170b5f"
      },
      "source": [
        "data = np.load('videos-faces-dataset.npz')\n",
        "trainX, trainy, testX, testy = data['arr_0'], data['arr_1'], data['arr_2'], data['arr_3']\n",
        "print('Loaded: ', trainX.shape, trainy.shape, testX.shape, testy.shape)"
      ],
      "execution_count": 59,
      "outputs": [
        {
          "output_type": "stream",
          "text": [
            "Loaded:  (64, 160, 160, 3) (64,) (8, 160, 160, 3) (8,)\n"
          ],
          "name": "stdout"
        }
      ]
    },
    {
      "cell_type": "markdown",
      "metadata": {
        "id": "u5WilKauLs9X",
        "colab_type": "text"
      },
      "source": [
        "# Téléchargement de FaceNet"
      ]
    },
    {
      "cell_type": "code",
      "metadata": {
        "id": "OQ_gF6m734K8",
        "colab_type": "code",
        "colab": {
          "base_uri": "https://localhost:8080/",
          "height": 88
        },
        "outputId": "9e522b2c-f408-470f-b896-f6c97bb8fee0"
      },
      "source": [
        "facenet_model = load_model('/content/drive/My Drive/facenet1/facenet_keras.h5')\n",
        "print('Loaded Model')"
      ],
      "execution_count": 15,
      "outputs": [
        {
          "output_type": "stream",
          "text": [
            "Loaded Model\n"
          ],
          "name": "stdout"
        },
        {
          "output_type": "stream",
          "text": [
            "/usr/local/lib/python3.6/dist-packages/keras/engine/saving.py:341: UserWarning: No training configuration found in save file: the model was *not* compiled. Compile it manually.\n",
            "  warnings.warn('No training configuration found in save file: '\n"
          ],
          "name": "stderr"
        }
      ]
    },
    {
      "cell_type": "markdown",
      "metadata": {
        "id": "2dUneWXBLxru",
        "colab_type": "text"
      },
      "source": [
        "# Extraire les features"
      ]
    },
    {
      "cell_type": "code",
      "metadata": {
        "id": "oGClcR3R4Bxd",
        "colab_type": "code",
        "colab": {
          "base_uri": "https://localhost:8080/",
          "height": 51
        },
        "outputId": "68b3f1fb-b1ec-4819-e3ff-e17c78adc503"
      },
      "source": [
        "def get_embedding(model, face):\n",
        "    # scale pixel values\n",
        "    face = face.astype('float32')\n",
        "    # standardization\n",
        "    mean, std = face.mean(), face.std()\n",
        "    face = (face-mean)/std\n",
        "    # transfer face into one sample (3 dimension to 4 dimension)\n",
        "    sample = np.expand_dims(face, axis=0)\n",
        "    # make prediction to get embedding\n",
        "    yhat = model.predict(sample)\n",
        "    return yhat[0]\n",
        "    \n",
        "# convert each face in the train set into embedding\n",
        "emdTrainX = list()\n",
        "for face in trainX:\n",
        "    emd = get_embedding(facenet_model, face)\n",
        "    emdTrainX.append(emd)\n",
        "    \n",
        "emdTrainX = np.asarray(emdTrainX)\n",
        "print(emdTrainX.shape)\n",
        "\n",
        "# convert each face in the test set into embedding\n",
        "emdTestX = list()\n",
        "for face in testX:\n",
        "    emd = get_embedding(facenet_model, face)\n",
        "    emdTestX.append(emd)\n",
        "emdTestX = np.asarray(emdTestX)\n",
        "print(emdTestX.shape)\n",
        "\n",
        "# save arrays to one file in compressed format\n",
        "np.savez_compressed('videos-faces-embeddings.npz', emdTrainX, trainy, emdTestX, testy)"
      ],
      "execution_count": 60,
      "outputs": [
        {
          "output_type": "stream",
          "text": [
            "(64, 128)\n",
            "(8, 128)\n"
          ],
          "name": "stdout"
        }
      ]
    },
    {
      "cell_type": "markdown",
      "metadata": {
        "id": "ZpRRk_YKL2jx",
        "colab_type": "text"
      },
      "source": [
        "# Classification des features"
      ]
    },
    {
      "cell_type": "code",
      "metadata": {
        "id": "Um6jqejM4BuB",
        "colab_type": "code",
        "colab": {
          "base_uri": "https://localhost:8080/",
          "height": 51
        },
        "outputId": "a15f6f44-9102-4669-fc65-af7bbd0490e9"
      },
      "source": [
        "from sklearn.metrics import accuracy_score\n",
        "from sklearn.preprocessing import LabelEncoder\n",
        "from sklearn.preprocessing import Normalizer\n",
        "from sklearn.svm import SVC\n",
        "\n",
        "print(\"Dataset: train=%d, test=%d\" % (emdTrainX.shape[0], emdTestX.shape[0]))\n",
        "# normalize input vectors\n",
        "in_encoder = Normalizer()\n",
        "emdTrainX_norm = in_encoder.transform(emdTrainX)\n",
        "emdTestX_norm = in_encoder.transform(emdTestX)\n",
        "# label encode targets\n",
        "out_encoder = LabelEncoder()\n",
        "out_encoder.fit(trainy)\n",
        "trainy_enc = out_encoder.transform(trainy)\n",
        "testy_enc = out_encoder.transform(testy)\n",
        "# fit model\n",
        "model = SVC(kernel='linear', probability=True)\n",
        "model.fit(emdTrainX_norm, trainy_enc)\n",
        "# predict\n",
        "yhat_train = model.predict(emdTrainX_norm)\n",
        "yhat_test = model.predict(emdTestX_norm)\n",
        "# score\n",
        "score_train = accuracy_score(trainy_enc, yhat_train)\n",
        "score_test = accuracy_score(testy_enc, yhat_test)\n",
        "# summarize\n",
        "print('Accuracy: train=%.3f, test=%.3f' % (score_train*100, score_test*100))"
      ],
      "execution_count": 61,
      "outputs": [
        {
          "output_type": "stream",
          "text": [
            "Dataset: train=64, test=8\n",
            "Accuracy: train=100.000, test=100.000\n"
          ],
          "name": "stdout"
        }
      ]
    },
    {
      "cell_type": "markdown",
      "metadata": {
        "id": "MGnmQiMQL8A1",
        "colab_type": "text"
      },
      "source": [
        "# Identification"
      ]
    },
    {
      "cell_type": "code",
      "metadata": {
        "id": "EO-G5pQW4Bqd",
        "colab_type": "code",
        "colab": {
          "base_uri": "https://localhost:8080/",
          "height": 349
        },
        "outputId": "191ed37c-6edc-4670-a218-3ab3b33ac211"
      },
      "source": [
        "from random import choice\n",
        "# select a random face from test set\n",
        "selection = choice([i for i in range(testX.shape[0])])\n",
        "random_face = testX[selection]\n",
        "random_face_emd = emdTestX_norm[selection]\n",
        "random_face_class = testy_enc[selection]\n",
        "random_face_name = out_encoder.inverse_transform([random_face_class])\n",
        "\n",
        "# prediction for the face\n",
        "samples = np.expand_dims(random_face_emd, axis=0)\n",
        "yhat_class = model.predict(samples)\n",
        "yhat_prob = model.predict_proba(samples)\n",
        "# get name\n",
        "class_index = yhat_class[0]\n",
        "class_probability = yhat_prob[0,class_index] * 100\n",
        "predict_names = out_encoder.inverse_transform(yhat_class)\n",
        "all_names = out_encoder.inverse_transform([0,1,2,3])\n",
        "#print('Predicted: %s (%.3f)' % (predict_names[0], class_probability))\n",
        "print('Predicted: \\n%s \\n%s' % (all_names, yhat_prob[0]*100))\n",
        "print('Expected: %s' % random_face_name[0])\n",
        "# plot face\n",
        "plt.imshow(random_face)\n",
        "title = '%s (%.3f)' % (predict_names[0], class_probability)\n",
        "plt.title(title)\n",
        "plt.show()"
      ],
      "execution_count": 62,
      "outputs": [
        {
          "output_type": "stream",
          "text": [
            "Predicted: \n",
            "['Locas' 'alix' 'jenniffer' 'yousra'] \n",
            "[ 4.62119131  3.0035802   4.52749299 87.84773551]\n",
            "Expected: yousra\n"
          ],
          "name": "stdout"
        },
        {
          "output_type": "display_data",
          "data": {
            "image/png": "[encoded data removed]",
            "text/plain": [
              "<Figure size 432x288 with 1 Axes>"
            ]
          },
          "metadata": {
            "tags": [],
            "needs_background": "light"
          }
        }
      ]
    },
    {
      "cell_type": "code",
      "metadata": {
        "id": "rf4e1sWc4Bk0",
        "colab_type": "code",
        "colab": {}
      },
      "source": [
        ""
      ],
      "execution_count": 0,
      "outputs": []
    }
  ]
}
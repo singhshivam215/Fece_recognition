{
  "nbformat": 4,
  "nbformat_minor": 0,
  "metadata": {
    "colab": {
      "name": "Face_recognition_videos.ipynb",
      "provenance": [],
      "collapsed_sections": [],
      "include_colab_link": true
    },
    "kernelspec": {
      "name": "python3",
      "display_name": "Python 3"
    }
  },
  "cells": [
    {
      "cell_type": "markdown",
      "metadata": {
        "id": "view-in-github",
        "colab_type": "text"
      },
      "source": [
        "<a href=\"https://colab.research.google.com/github/YoussefMkhaouad/Fece_recognition/blob/master/Face_recognition_videos.ipynb\" target=\"_parent\"><img src=\"https://colab.research.google.com/assets/colab-badge.svg\" alt=\"Open In Colab\"/></a>"
      ]
    },
    {
      "cell_type": "code",
      "metadata": {
        "id": "5AE4exOddlSf",
        "colab_type": "code",
        "colab": {
          "base_uri": "https://localhost:8080/",
          "height": 122
        },
        "outputId": "bc24ffb2-c85d-43b3-8d48-713782d2a045"
      },
      "source": [
        "from google.colab import drive\n",
        "drive.mount('/content/drive')"
      ],
      "execution_count": 7,
      "outputs": [
        {
          "output_type": "stream",
          "text": [
            "Go to this URL in a browser: https://accounts.google.com/o/oauth2/auth?client_id=947318989803-6bn6qk8qdgf4n4g3pfee6491hc0brc4i.apps.googleusercontent.com&redirect_uri=urn%3aietf%3awg%3aoauth%3a2.0%3aoob&response_type=code&scope=email%20https%3a%2f%2fwww.googleapis.com%2fauth%2fdocs.test%20https%3a%2f%2fwww.googleapis.com%2fauth%2fdrive%20https%3a%2f%2fwww.googleapis.com%2fauth%2fdrive.photos.readonly%20https%3a%2f%2fwww.googleapis.com%2fauth%2fpeopleapi.readonly\n",
            "\n",
            "Enter your authorization code:\n",
            "··········\n",
            "Mounted at /content/drive\n"
          ],
          "name": "stdout"
        }
      ]
    },
    {
      "cell_type": "markdown",
      "metadata": {
        "id": "vr-u7qlqoD6U",
        "colab_type": "text"
      },
      "source": [
        "# Etape1\n",
        "\n",
        "\n"
      ]
    },
    {
      "cell_type": "markdown",
      "metadata": {
        "id": "_2rSWlmloNEa",
        "colab_type": "text"
      },
      "source": [
        "### Au début,il faut importer les bibliothèques nécessaires"
      ]
    },
    {
      "cell_type": "code",
      "metadata": {
        "id": "b4cZbecBkhtP",
        "colab_type": "code",
        "colab": {}
      },
      "source": [
        "import keras\n",
        "from keras.models import Sequential\n",
        "from keras.layers import Conv2D, MaxPooling2D, Dense, Flatten, Dropout\n",
        "from keras.optimizers import Adam\n",
        "from keras.callbacks import TensorBoard\n",
        "\n",
        "import numpy as np\n",
        "import pandas as pd\n",
        "import matplotlib.pyplot as plt\n",
        "from sklearn.model_selection import train_test_split\n",
        "\n",
        "from sklearn.metrics import classification_report\n",
        "from sklearn.metrics import roc_curve, auc\n",
        "from sklearn.metrics import accuracy_score\n",
        "from keras.utils import np_utils\n",
        "import itertools\n",
        "import os\n",
        "\n",
        "from PIL import Image\n",
        "from os import listdir\n",
        "from os.path import isfile, join\n",
        "import cv2\n",
        "import os\n",
        "from pathlib import Path\n",
        "from os.path import basename"
      ],
      "execution_count": 0,
      "outputs": []
    },
    {
      "cell_type": "markdown",
      "metadata": {
        "id": "zSvNTFSlo12x",
        "colab_type": "text"
      },
      "source": [
        "# Etape2"
      ]
    },
    {
      "cell_type": "markdown",
      "metadata": {
        "id": "ATD0dtq4o4eD",
        "colab_type": "text"
      },
      "source": [
        "### Construire la base de données"
      ]
    },
    {
      "cell_type": "code",
      "metadata": {
        "id": "mKheBhwDhYBq",
        "colab_type": "code",
        "outputId": "99982e8e-53c1-4a96-cdaa-0de9d80fe3ae",
        "colab": {
          "base_uri": "https://localhost:8080/",
          "height": 34
        }
      },
      "source": [
        "\n",
        "def getFrame(sec):\n",
        "    dir=listdir('/content/drive/My Drive/test')\n",
        "    for i in range(len(dir)):\n",
        "\n",
        "      dd=os.path.join('/content/drive/My Drive/Data', dir[i])\n",
        "      vidcap.set(cv2.CAP_PROP_POS_MSEC,sec*1000)\n",
        "      hasFrames,image = vidcap.read()\n",
        "      \n",
        "      if hasFrames:\n",
        "\n",
        "         cv2.imwrite(str(x)+'/'+label+str(count)+\".jpg\", image)     # save frame as JPG file\n",
        "    return hasFrames\n",
        "\n",
        "mypath = \"/content/drive/My Drive/videos\"\n",
        "\n",
        "videosFiles = [ f for f in listdir(mypath) if isfile(join(mypath,f)) and (f.endswith((\"mp4\")) or f.endswith((\"vip\"))) ]\n",
        "\n",
        "count=1\n",
        "for vid in videosFiles:\n",
        "    y=list()\n",
        "    label,extent=os.path.splitext(vid)\n",
        "    y.append(label)\n",
        "    vidcap = cv2.VideoCapture(join(mypath,vid)) \n",
        "    vidcap.set(cv2.CAP_PROP_FRAME_WIDTH, 255)\n",
        "    vidcap.set(cv2.CAP_PROP_FRAME_HEIGHT, 255)\n",
        "    try:\n",
        "\n",
        "      if not os.path.exists('/content/drive/My Drive/Data'+'/'+label): \n",
        "\n",
        "\t\t       os.makedirs('/content/drive/My Drive/test'+'/'+label) \n",
        "\n",
        "    except OSError: \n",
        "         \n",
        "\t    print ('Error: Creating directory of data')\n",
        "    dd=os.path.join('/content/drive/My Drive/Data',label)\n",
        "    x=Path(dd)\n",
        "\n",
        "    sec = 0\n",
        "    frameRate =1 #//it will capture image in each 2 second\n",
        "    success = getFrame(sec)\n",
        "    while success:\n",
        "      count = count + 1\n",
        "      sec = sec + frameRate\n",
        "      sec = round(sec, 2)\n",
        "      success = getFrame(sec)\n",
        "print('Done!!') "
      ],
      "execution_count": 0,
      "outputs": [
        {
          "output_type": "stream",
          "text": [
            "Done!!\n"
          ],
          "name": "stdout"
        }
      ]
    },
    {
      "cell_type": "markdown",
      "metadata": {
        "id": "1ExwpoeN3he8",
        "colab_type": "text"
      },
      "source": [
        "# Etape3\n",
        "\n",
        "\n",
        "*   ### Téléchargement des données\n",
        "##### Après avoir télechargé l'ensemble de données,il faut normaliser les images \n",
        "\n",
        "\n"
      ]
    },
    {
      "cell_type": "code",
      "metadata": {
        "id": "uklxMMyR0zb9",
        "colab_type": "code",
        "colab": {}
      },
      "source": [
        "def extract_image(filename, required_size=(160,160)):\n",
        "    image = Image.open(filename)\n",
        "    image = image.convert('RGB')\n",
        "    pixels = np.asarray(image)\n",
        "    image = Image.fromarray(pixels)\n",
        "    image = image.resize(required_size)\n",
        "    image_array = np.asarray(image)\n",
        "    return image_array"
      ],
      "execution_count": 0,
      "outputs": []
    },
    {
      "cell_type": "code",
      "metadata": {
        "id": "0yIFMMg-1H-P",
        "colab_type": "code",
        "colab": {}
      },
      "source": [
        "def load_image(dir):\n",
        "    images = list()\n",
        "    # enumerate files\n",
        "    for filename in os.listdir(dir):\n",
        "        path = dir + filename\n",
        "        image = extract_image(path)\n",
        "        images.append(image)\n",
        "    return images\n",
        "\n",
        "def load_dataset(dir):\n",
        "    # list for faces and labels\n",
        "    X, y = list(), list()\n",
        "    for subdir in os.listdir(dir):\n",
        "        path = dir + subdir + '/'\n",
        "        images = load_image(path)\n",
        "        labels = [subdir for i in range(len(images))]\n",
        "        print(\"loaded %d sample for class: %s\" % (len(images),subdir) ) # print progress\n",
        "        X.extend(images)\n",
        "        y.extend(labels)\n",
        "    return np.asarray(X), np.asarray(y)\n"
      ],
      "execution_count": 0,
      "outputs": []
    },
    {
      "cell_type": "code",
      "metadata": {
        "id": "UI1GbAKhP0zo",
        "colab_type": "code",
        "outputId": "8294516c-c806-479c-cee3-3cc362ba2493",
        "colab": {
          "base_uri": "https://localhost:8080/",
          "height": 105
        }
      },
      "source": [
        "pip install split_folders"
      ],
      "execution_count": 0,
      "outputs": [
        {
          "output_type": "stream",
          "text": [
            "Collecting split_folders\n",
            "  Downloading https://files.pythonhosted.org/packages/20/67/29dda743e6d23ac1ea3d16704d8bbb48d65faf3f1b1eaf53153b3da56c56/split_folders-0.3.1-py3-none-any.whl\n",
            "Installing collected packages: split-folders\n",
            "Successfully installed split-folders-0.3.1\n"
          ],
          "name": "stdout"
        }
      ]
    },
    {
      "cell_type": "code",
      "metadata": {
        "id": "B4jdUoAgh1Rc",
        "colab_type": "code",
        "outputId": "2ac6897d-cab1-48ce-e5ca-15381911536f",
        "colab": {
          "base_uri": "https://localhost:8080/",
          "height": 34
        }
      },
      "source": [
        "import split_folders\n",
        "\n",
        "split_folders.ratio('/content/drive/My Drive/Data', output=\"/content/drive/My Drive/Split\", seed=1337, ratio=(.8, .1, .1))"
      ],
      "execution_count": 0,
      "outputs": [
        {
          "output_type": "stream",
          "text": [
            "Copying files: 1340 files [13:45,  1.62 files/s]\n"
          ],
          "name": "stderr"
        }
      ]
    },
    {
      "cell_type": "code",
      "metadata": {
        "id": "mJGIhRoPlsHR",
        "colab_type": "code",
        "outputId": "5e5187eb-4e63-4d09-bfac-fb4a1e17725f",
        "colab": {
          "base_uri": "https://localhost:8080/",
          "height": 187
        }
      },
      "source": [
        "trainX, trainy = load_dataset('/content/drive/My Drive/Split/train/')\n",
        "print(trainX.shape, trainy.shape)\n",
        "# load test dataset\n",
        "testX, testy = load_dataset('/content/drive/My Drive/Split/test/')\n",
        "print(testX.shape, testy.shape)\n",
        "\n",
        "# save and compress the dataset for further use\n",
        "np.savez_compressed('faces-dataset.npz', trainX, trainy, testX, testy)"
      ],
      "execution_count": 11,
      "outputs": [
        {
          "output_type": "stream",
          "text": [
            "loaded 80 sample for class: alix\n",
            "loaded 80 sample for class: yousra\n",
            "loaded 80 sample for class: Locas\n",
            "loaded 80 sample for class: jenniffer\n",
            "(320, 160, 160, 3) (320,)\n",
            "loaded 10 sample for class: alix\n",
            "loaded 10 sample for class: yousra\n",
            "loaded 10 sample for class: Locas\n",
            "loaded 10 sample for class: jenniffer\n",
            "(40, 160, 160, 3) (40,)\n"
          ],
          "name": "stdout"
        }
      ]
    },
    {
      "cell_type": "code",
      "metadata": {
        "id": "NHiNDUYV7E4M",
        "colab_type": "code",
        "outputId": "f5e28b5c-8fbd-4ca7-c941-f0d303ec9255",
        "colab": {
          "base_uri": "https://localhost:8080/",
          "height": 1000
        }
      },
      "source": [
        "data = np.load('/content/faces-dataset.npz') \n",
        "\n",
        "x_train = data['arr_0']\n",
        "x_train = np.array(x_train,dtype='float32')/255\n",
        "\n",
        "x_test = data['arr_2']\n",
        "x_test = np.array(x_test,dtype='float32')/255\n",
        "\n",
        "y_train= data['arr_1']\n",
        "y_test= data['arr_3']\n",
        "\n",
        "import numpy as np\n",
        "\n",
        "y_test=np.where(y_test=='alix', np.array(1), y_test) \n",
        "y_test=np.where(y_test=='yousra', np.array(2), y_test) \n",
        "y_test=np.where(y_test=='Locas',np.array(3), y_test)\n",
        "y_test=np.where(y_test=='jenniffer',np.array(4), y_test)\n",
        "\n",
        "y_test =y_test.astype(np.int)\n",
        "\n",
        "#y_train = np.array(y_train)\n",
        "y_train=np.where(y_train=='alix',np.array(1), y_train) \n",
        "y_train=np.where(y_train=='yousra',np.array(2), y_train) \n",
        "y_train=np.where(y_train=='Locas',np.array(3), y_train)\n",
        "y_train=np.where(y_train=='jenniffer',np.array(4), y_train)\n",
        "\n",
        "y_train =y_train.astype(np.int)\n",
        "\n",
        "# show the train and test Data format\n",
        "print('x_train : {}'.format(x_train[:]))\n",
        "print('Y-train shape: {}'.format(y_test))\n",
        "print('x_test shape: {}'.format(x_test.shape))\n",
        "\n"
      ],
      "execution_count": 12,
      "outputs": [
        {
          "output_type": "stream",
          "text": [
            "x_train : [[[[0.7058824  0.6901961  0.74509805]\n",
            "   [0.7019608  0.67058825 0.7411765 ]\n",
            "   [0.6862745  0.6509804  0.7176471 ]\n",
            "   ...\n",
            "   [0.7607843  0.7137255  0.74509805]\n",
            "   [0.7490196  0.7137255  0.74509805]\n",
            "   [0.7372549  0.7019608  0.73333335]]\n",
            "\n",
            "  [[0.70980394 0.69411767 0.7490196 ]\n",
            "   [0.70980394 0.6784314  0.7411765 ]\n",
            "   [0.6901961  0.6509804  0.7176471 ]\n",
            "   ...\n",
            "   [0.7647059  0.7176471  0.7411765 ]\n",
            "   [0.7529412  0.7137255  0.7372549 ]\n",
            "   [0.7411765  0.70980394 0.74509805]]\n",
            "\n",
            "  [[0.70980394 0.69803923 0.7490196 ]\n",
            "   [0.70980394 0.6784314  0.74509805]\n",
            "   [0.6901961  0.65882355 0.7254902 ]\n",
            "   ...\n",
            "   [0.7607843  0.72156864 0.7490196 ]\n",
            "   [0.7529412  0.7176471  0.7411765 ]\n",
            "   [0.7411765  0.70980394 0.74509805]]\n",
            "\n",
            "  ...\n",
            "\n",
            "  [[0.69803923 0.7058824  0.8666667 ]\n",
            "   [0.7019608  0.7137255  0.8745098 ]\n",
            "   [0.7058824  0.7176471  0.8745098 ]\n",
            "   ...\n",
            "   [0.69411767 0.654902   0.7058824 ]\n",
            "   [0.69411767 0.64705884 0.7058824 ]\n",
            "   [0.69411767 0.64705884 0.69411767]]\n",
            "\n",
            "  [[0.69411767 0.7019608  0.8627451 ]\n",
            "   [0.69803923 0.70980394 0.8745098 ]\n",
            "   [0.7058824  0.7176471  0.87058824]\n",
            "   ...\n",
            "   [0.69803923 0.6509804  0.69803923]\n",
            "   [0.6862745  0.6431373  0.69803923]\n",
            "   [0.68235296 0.63529414 0.68235296]]\n",
            "\n",
            "  [[0.6901961  0.7019608  0.87058824]\n",
            "   [0.69803923 0.70980394 0.8784314 ]\n",
            "   [0.69803923 0.7137255  0.87058824]\n",
            "   ...\n",
            "   [0.6901961  0.654902   0.69411767]\n",
            "   [0.6784314  0.6431373  0.6901961 ]\n",
            "   [0.6784314  0.627451   0.6745098 ]]]\n",
            "\n",
            "\n",
            " [[[0.7058824  0.69411767 0.7411765 ]\n",
            "   [0.7019608  0.68235296 0.73333335]\n",
            "   [0.68235296 0.6509804  0.7137255 ]\n",
            "   ...\n",
            "   [0.7607843  0.7137255  0.7529412 ]\n",
            "   [0.7529412  0.70980394 0.7529412 ]\n",
            "   [0.73333335 0.7019608  0.7411765 ]]\n",
            "\n",
            "  [[0.70980394 0.69411767 0.74509805]\n",
            "   [0.7058824  0.6784314  0.7372549 ]\n",
            "   [0.6862745  0.654902   0.7254902 ]\n",
            "   ...\n",
            "   [0.7647059  0.7176471  0.7607843 ]\n",
            "   [0.7529412  0.70980394 0.75686276]\n",
            "   [0.74509805 0.7058824  0.7529412 ]]\n",
            "\n",
            "  [[0.70980394 0.69803923 0.74509805]\n",
            "   [0.7058824  0.68235296 0.7411765 ]\n",
            "   [0.69411767 0.6627451  0.7254902 ]\n",
            "   ...\n",
            "   [0.7607843  0.7254902  0.7607843 ]\n",
            "   [0.7490196  0.7176471  0.7529412 ]\n",
            "   [0.74509805 0.70980394 0.7490196 ]]\n",
            "\n",
            "  ...\n",
            "\n",
            "  [[0.69411767 0.7058824  0.8666667 ]\n",
            "   [0.69803923 0.72156864 0.8666667 ]\n",
            "   [0.7019608  0.7254902  0.8745098 ]\n",
            "   ...\n",
            "   [0.69803923 0.65882355 0.7058824 ]\n",
            "   [0.69411767 0.6509804  0.70980394]\n",
            "   [0.69411767 0.6431373  0.7058824 ]]\n",
            "\n",
            "  [[0.6901961  0.7019608  0.8627451 ]\n",
            "   [0.69803923 0.7176471  0.8666667 ]\n",
            "   [0.69803923 0.7176471  0.87058824]\n",
            "   ...\n",
            "   [0.69803923 0.65882355 0.7058824 ]\n",
            "   [0.69411767 0.64705884 0.69803923]\n",
            "   [0.6862745  0.63529414 0.69411767]]\n",
            "\n",
            "  [[0.6901961  0.7019608  0.85882354]\n",
            "   [0.69803923 0.7137255  0.8627451 ]\n",
            "   [0.69803923 0.7137255  0.8627451 ]\n",
            "   ...\n",
            "   [0.69411767 0.65882355 0.69411767]\n",
            "   [0.69411767 0.64705884 0.6901961 ]\n",
            "   [0.68235296 0.63529414 0.6901961 ]]]\n",
            "\n",
            "\n",
            " [[[0.7058824  0.6901961  0.7529412 ]\n",
            "   [0.7019608  0.6784314  0.73333335]\n",
            "   [0.68235296 0.654902   0.7137255 ]\n",
            "   ...\n",
            "   [0.7490196  0.7176471  0.7490196 ]\n",
            "   [0.7411765  0.7137255  0.74509805]\n",
            "   [0.73333335 0.7137255  0.7372549 ]]\n",
            "\n",
            "  [[0.7058824  0.6901961  0.7490196 ]\n",
            "   [0.7058824  0.68235296 0.7411765 ]\n",
            "   [0.6862745  0.654902   0.72156864]\n",
            "   ...\n",
            "   [0.7529412  0.72156864 0.7529412 ]\n",
            "   [0.74509805 0.7176471  0.7490196 ]\n",
            "   [0.7372549  0.7176471  0.7411765 ]]\n",
            "\n",
            "  [[0.7137255  0.69803923 0.75686276]\n",
            "   [0.70980394 0.6862745  0.7411765 ]\n",
            "   [0.6901961  0.65882355 0.7254902 ]\n",
            "   ...\n",
            "   [0.75686276 0.7254902  0.7490196 ]\n",
            "   [0.74509805 0.7176471  0.74509805]\n",
            "   [0.7372549  0.7137255  0.7411765 ]]\n",
            "\n",
            "  ...\n",
            "\n",
            "  [[0.69411767 0.70980394 0.85490197]\n",
            "   [0.7019608  0.7176471  0.8666667 ]\n",
            "   [0.7019608  0.72156864 0.87058824]\n",
            "   ...\n",
            "   [0.6901961  0.65882355 0.7058824 ]\n",
            "   [0.6862745  0.6509804  0.7058824 ]\n",
            "   [0.6784314  0.64705884 0.69803923]]\n",
            "\n",
            "  [[0.6901961  0.7058824  0.85490197]\n",
            "   [0.7019608  0.7137255  0.8666667 ]\n",
            "   [0.7019608  0.72156864 0.87058824]\n",
            "   ...\n",
            "   [0.6901961  0.654902   0.7058824 ]\n",
            "   [0.6901961  0.64705884 0.69803923]\n",
            "   [0.6745098  0.6431373  0.6901961 ]]\n",
            "\n",
            "  [[0.6901961  0.69803923 0.85882354]\n",
            "   [0.69803923 0.7058824  0.8666667 ]\n",
            "   [0.7019608  0.7137255  0.87058824]\n",
            "   ...\n",
            "   [0.6901961  0.654902   0.7019608 ]\n",
            "   [0.6901961  0.64705884 0.69411767]\n",
            "   [0.6784314  0.6392157  0.68235296]]]\n",
            "\n",
            "\n",
            " ...\n",
            "\n",
            "\n",
            " [[[0.81960785 0.8156863  0.7647059 ]\n",
            "   [0.827451   0.8235294  0.7607843 ]\n",
            "   [0.8392157  0.8352941  0.7647059 ]\n",
            "   ...\n",
            "   [0.8        0.78431374 0.7372549 ]\n",
            "   [0.8039216  0.78431374 0.7411765 ]\n",
            "   [0.80784315 0.78039217 0.74509805]]\n",
            "\n",
            "  [[0.8156863  0.8156863  0.7529412 ]\n",
            "   [0.8235294  0.8235294  0.7647059 ]\n",
            "   [0.8352941  0.8392157  0.7607843 ]\n",
            "   ...\n",
            "   [0.8039216  0.7882353  0.7411765 ]\n",
            "   [0.8039216  0.78431374 0.7372549 ]\n",
            "   [0.80784315 0.78431374 0.7294118 ]]\n",
            "\n",
            "  [[0.8156863  0.81960785 0.7529412 ]\n",
            "   [0.83137256 0.827451   0.75686276]\n",
            "   [0.8392157  0.8352941  0.7647059 ]\n",
            "   ...\n",
            "   [0.80784315 0.7882353  0.74509805]\n",
            "   [0.80784315 0.7882353  0.7372549 ]\n",
            "   [0.80784315 0.78431374 0.7294118 ]]\n",
            "\n",
            "  ...\n",
            "\n",
            "  [[0.80784315 0.8235294  0.7647059 ]\n",
            "   [0.84313726 0.85490197 0.7882353 ]\n",
            "   [0.84705883 0.85490197 0.78431374]\n",
            "   ...\n",
            "   [0.7607843  0.7137255  0.6627451 ]\n",
            "   [0.7607843  0.7137255  0.65882355]\n",
            "   [0.75686276 0.70980394 0.654902  ]]\n",
            "\n",
            "  [[0.8117647  0.8235294  0.7647059 ]\n",
            "   [0.8392157  0.8509804  0.78431374]\n",
            "   [0.84313726 0.8509804  0.78431374]\n",
            "   ...\n",
            "   [0.7607843  0.7137255  0.6627451 ]\n",
            "   [0.75686276 0.70980394 0.654902  ]\n",
            "   [0.75686276 0.7058824  0.654902  ]]\n",
            "\n",
            "  [[0.8117647  0.81960785 0.7647059 ]\n",
            "   [0.84313726 0.8509804  0.7764706 ]\n",
            "   [0.84313726 0.85490197 0.78431374]\n",
            "   ...\n",
            "   [0.75686276 0.70980394 0.65882355]\n",
            "   [0.7529412  0.7058824  0.654902  ]\n",
            "   [0.7490196  0.69803923 0.654902  ]]]\n",
            "\n",
            "\n",
            " [[[0.81960785 0.81960785 0.7607843 ]\n",
            "   [0.827451   0.81960785 0.7647059 ]\n",
            "   [0.8235294  0.827451   0.7607843 ]\n",
            "   ...\n",
            "   [0.8039216  0.7882353  0.7411765 ]\n",
            "   [0.8        0.78431374 0.7372549 ]\n",
            "   [0.8        0.78431374 0.7372549 ]]\n",
            "\n",
            "  [[0.81960785 0.81960785 0.7529412 ]\n",
            "   [0.827451   0.8235294  0.7607843 ]\n",
            "   [0.83137256 0.8352941  0.7647059 ]\n",
            "   ...\n",
            "   [0.80784315 0.7921569  0.74509805]\n",
            "   [0.8039216  0.7882353  0.7372549 ]\n",
            "   [0.8        0.7882353  0.7294118 ]]\n",
            "\n",
            "  [[0.81960785 0.8235294  0.7490196 ]\n",
            "   [0.827451   0.827451   0.75686276]\n",
            "   [0.8352941  0.83137256 0.7607843 ]\n",
            "   ...\n",
            "   [0.8039216  0.7921569  0.7411765 ]\n",
            "   [0.8039216  0.7882353  0.7411765 ]\n",
            "   [0.8039216  0.78431374 0.73333335]]\n",
            "\n",
            "  ...\n",
            "\n",
            "  [[0.80784315 0.8235294  0.7647059 ]\n",
            "   [0.8392157  0.8509804  0.7921569 ]\n",
            "   [0.84313726 0.85882354 0.78431374]\n",
            "   ...\n",
            "   [0.7529412  0.7137255  0.65882355]\n",
            "   [0.7529412  0.7176471  0.65882355]\n",
            "   [0.75686276 0.70980394 0.654902  ]]\n",
            "\n",
            "  [[0.8117647  0.8235294  0.7647059 ]\n",
            "   [0.84313726 0.8509804  0.7882353 ]\n",
            "   [0.84705883 0.85490197 0.7882353 ]\n",
            "   ...\n",
            "   [0.7529412  0.7137255  0.65882355]\n",
            "   [0.7490196  0.70980394 0.6509804 ]\n",
            "   [0.75686276 0.7058824  0.654902  ]]\n",
            "\n",
            "  [[0.8117647  0.81960785 0.7647059 ]\n",
            "   [0.8392157  0.84705883 0.78039217]\n",
            "   [0.84313726 0.8509804  0.78431374]\n",
            "   ...\n",
            "   [0.74509805 0.70980394 0.6509804 ]\n",
            "   [0.74509805 0.7058824  0.6509804 ]\n",
            "   [0.74509805 0.69411767 0.6509804 ]]]\n",
            "\n",
            "\n",
            " [[[0.8117647  0.81960785 0.74509805]\n",
            "   [0.8235294  0.8235294  0.7607843 ]\n",
            "   [0.83137256 0.83137256 0.7607843 ]\n",
            "   ...\n",
            "   [0.8039216  0.7882353  0.7411765 ]\n",
            "   [0.8        0.78431374 0.7372549 ]\n",
            "   [0.8        0.78431374 0.7372549 ]]\n",
            "\n",
            "  [[0.827451   0.80784315 0.75686276]\n",
            "   [0.827451   0.8235294  0.7607843 ]\n",
            "   [0.8352941  0.83137256 0.7607843 ]\n",
            "   ...\n",
            "   [0.8039216  0.7921569  0.7411765 ]\n",
            "   [0.8        0.7882353  0.73333335]\n",
            "   [0.8        0.78431374 0.7372549 ]]\n",
            "\n",
            "  [[0.8235294  0.8156863  0.7490196 ]\n",
            "   [0.83137256 0.8235294  0.75686276]\n",
            "   [0.8392157  0.8352941  0.7607843 ]\n",
            "   ...\n",
            "   [0.8039216  0.7921569  0.7411765 ]\n",
            "   [0.8        0.7882353  0.7372549 ]\n",
            "   [0.8        0.78431374 0.7372549 ]]\n",
            "\n",
            "  ...\n",
            "\n",
            "  [[0.80784315 0.8235294  0.7647059 ]\n",
            "   [0.84705883 0.85490197 0.78431374]\n",
            "   [0.84705883 0.85490197 0.78039217]\n",
            "   ...\n",
            "   [0.7607843  0.7176471  0.6627451 ]\n",
            "   [0.7607843  0.7176471  0.65882355]\n",
            "   [0.7490196  0.70980394 0.6509804 ]]\n",
            "\n",
            "  [[0.8117647  0.8235294  0.7647059 ]\n",
            "   [0.84313726 0.8509804  0.78039217]\n",
            "   [0.84705883 0.8509804  0.78039217]\n",
            "   ...\n",
            "   [0.75686276 0.7137255  0.65882355]\n",
            "   [0.75686276 0.7137255  0.65882355]\n",
            "   [0.7529412  0.70980394 0.654902  ]]\n",
            "\n",
            "  [[0.8117647  0.81960785 0.7647059 ]\n",
            "   [0.84313726 0.8509804  0.78039217]\n",
            "   [0.8509804  0.85490197 0.78431374]\n",
            "   ...\n",
            "   [0.7529412  0.70980394 0.654902  ]\n",
            "   [0.7529412  0.70980394 0.6509804 ]\n",
            "   [0.7490196  0.7058824  0.6509804 ]]]]\n",
            "Y-train shape: [1 1 1 1 1 1 1 1 1 1 2 2 2 2 2 2 2 2 2 2 3 3 3 3 3 3 3 3 3 3 4 4 4 4 4 4 4\n",
            " 4 4 4]\n",
            "x_test shape: (40, 160, 160, 3)\n"
          ],
          "name": "stdout"
        }
      ]
    },
    {
      "cell_type": "markdown",
      "metadata": {
        "id": "8hih4TK94vir",
        "colab_type": "text"
      },
      "source": [
        "# Etape4\n",
        "### Split dataset:Train et Test"
      ]
    },
    {
      "cell_type": "code",
      "metadata": {
        "id": "eqh6lEKs7oxX",
        "colab_type": "code",
        "colab": {}
      },
      "source": [
        "x_train, x_valid, y_train, y_valid= train_test_split(\n",
        "    x_train, y_train, test_size=0.2)"
      ],
      "execution_count": 0,
      "outputs": []
    },
    {
      "cell_type": "code",
      "metadata": {
        "id": "AketXofMBYIk",
        "colab_type": "code",
        "outputId": "ac4c2490-8151-4244-b322-fafca36e9bbc",
        "colab": {
          "base_uri": "https://localhost:8080/",
          "height": 51
        }
      },
      "source": [
        "im_rows=160\n",
        "im_cols=160\n",
        "batch_size=128\n",
        "im_shape=(im_rows, im_cols, 3)\n",
        "x_train = x_train.reshape(x_train.shape[0], *im_shape)\n",
        "x_test = x_test.reshape(x_test.shape[0], *im_shape)\n",
        "x_valid = x_valid.reshape(x_valid.shape[0], *im_shape)\n",
        "\n",
        "print('x_train shape: {}'.format(y_train.shape[0]))\n",
        "print('x_test shape: {}'.format(y_test.shape))"
      ],
      "execution_count": 14,
      "outputs": [
        {
          "output_type": "stream",
          "text": [
            "x_train shape: 256\n",
            "x_test shape: (40,)\n"
          ],
          "name": "stdout"
        }
      ]
    },
    {
      "cell_type": "markdown",
      "metadata": {
        "id": "QT3e3eCa44QQ",
        "colab_type": "text"
      },
      "source": [
        "# Etape5\n",
        "### Construire un modèle CNN\n",
        "##### CNN a trois couches principales:\n",
        "\n",
        "\n",
        "1.   Convolotional layer\n",
        "2.   pooling layer\n",
        "3.   fully connected layer\n",
        "\n",
        "\n",
        "\n",
        "\n",
        "\n",
        "\n",
        "\n"
      ]
    },
    {
      "cell_type": "code",
      "metadata": {
        "id": "klZATV_uiL6J",
        "colab_type": "code",
        "colab": {}
      },
      "source": [
        "\n",
        "from keras.models import Sequential\n",
        "from keras import optimizers\n",
        "from keras.layers import Dense, Dropout, Activation, Flatten \n",
        "from keras.layers import Convolution2D, MaxPooling2D,MaxPool2D\n",
        "import os\n",
        "import numpy as np\n",
        "\n",
        "\n",
        "model= Sequential()\n",
        "model.add(Conv2D(64, kernel_size=(5, 5), activation='relu', input_shape=(160,160,3)))\n",
        "model.add(MaxPooling2D(pool_size=(2,2)))\n",
        "\n",
        "model.add(Conv2D(128, kernel_size=(5, 5), activation='relu'))\n",
        "model.add(MaxPooling2D(pool_size=(2,2)))\n",
        "\n",
        "model.add(Conv2D(256, kernel_size=(5, 5), activation='relu'))\n",
        "model.add(MaxPooling2D(pool_size=(2,2)))\n",
        "\n",
        "model.add(Flatten())          \n",
        "model.add(Dense(256))\n",
        "model.add(Dropout(0.2))\n",
        "model.add(Dense(10, activation='softmax'))\n",
        "\n",
        "\n",
        "model.compile(\n",
        "    loss='sparse_categorical_crossentropy',\n",
        "    optimizer='Adam',\n",
        "    metrics=['accuracy']\n",
        ")\n",
        "\n"
      ],
      "execution_count": 0,
      "outputs": []
    },
    {
      "cell_type": "code",
      "metadata": {
        "id": "oD13PrfrKHAC",
        "colab_type": "code",
        "colab": {}
      },
      "source": [
        ""
      ],
      "execution_count": 0,
      "outputs": []
    },
    {
      "cell_type": "markdown",
      "metadata": {
        "id": "D9CWtGqn5-Av",
        "colab_type": "text"
      },
      "source": [
        "### Affiche les paramètres du modèle."
      ]
    },
    {
      "cell_type": "code",
      "metadata": {
        "id": "MkofIsKZlB7z",
        "colab_type": "code",
        "outputId": "f4c96261-d062-4e25-a124-b7ef057fa950",
        "colab": {
          "base_uri": "https://localhost:8080/",
          "height": 493
        }
      },
      "source": [
        "my_model.summary()"
      ],
      "execution_count": 0,
      "outputs": [
        {
          "output_type": "stream",
          "text": [
            "Model: \"sequential_1\"\n",
            "_________________________________________________________________\n",
            "Layer (type)                 Output Shape              Param #   \n",
            "=================================================================\n",
            "conv2d_1 (Conv2D)            (None, 28, 28, 32)        896       \n",
            "_________________________________________________________________\n",
            "conv2d_2 (Conv2D)            (None, 26, 26, 32)        9248      \n",
            "_________________________________________________________________\n",
            "max_pooling2d_1 (MaxPooling2 (None, 13, 13, 32)        0         \n",
            "_________________________________________________________________\n",
            "conv2d_3 (Conv2D)            (None, 13, 13, 64)        18496     \n",
            "_________________________________________________________________\n",
            "conv2d_4 (Conv2D)            (None, 11, 11, 64)        36928     \n",
            "_________________________________________________________________\n",
            "max_pooling2d_2 (MaxPooling2 (None, 5, 5, 64)          0         \n",
            "_________________________________________________________________\n",
            "flatten_1 (Flatten)          (None, 1600)              0         \n",
            "_________________________________________________________________\n",
            "dense_1 (Dense)              (None, 1024)              1639424   \n",
            "_________________________________________________________________\n",
            "dense_2 (Dense)              (None, 512)               524800    \n",
            "_________________________________________________________________\n",
            "dense_3 (Dense)              (None, 10)                5130      \n",
            "=================================================================\n",
            "Total params: 2,234,922\n",
            "Trainable params: 2,234,922\n",
            "Non-trainable params: 0\n",
            "_________________________________________________________________\n"
          ],
          "name": "stdout"
        }
      ]
    },
    {
      "cell_type": "markdown",
      "metadata": {
        "id": "ENn4GD866XfE",
        "colab_type": "text"
      },
      "source": [
        "# Etape6\n",
        "### Entrainer le modèle"
      ]
    },
    {
      "cell_type": "code",
      "metadata": {
        "id": "zUaHzcu0lB4X",
        "colab_type": "code",
        "outputId": "73bcea26-5270-4d8f-f667-30bd80351fd5",
        "colab": {
          "base_uri": "https://localhost:8080/",
          "height": 224
        }
      },
      "source": [
        "history=model.fit(np.array(x_train), np.array(y_train), batch_size=128,\n",
        "    epochs=5,\n",
        "    validation_data=(np.array(x_valid),np.array(y_valid))\n",
        ")"
      ],
      "execution_count": 16,
      "outputs": [
        {
          "output_type": "stream",
          "text": [
            "Train on 256 samples, validate on 64 samples\n",
            "Epoch 1/5\n",
            "256/256 [==============================] - 79s 310ms/step - loss: 15.0397 - accuracy: 0.1562 - val_loss: 37.3567 - val_accuracy: 0.2812\n",
            "Epoch 2/5\n",
            "256/256 [==============================] - 74s 289ms/step - loss: 20.2139 - accuracy: 0.3789 - val_loss: 1.7666 - val_accuracy: 0.4375\n",
            "Epoch 3/5\n",
            "256/256 [==============================] - 74s 289ms/step - loss: 2.6934 - accuracy: 0.3281 - val_loss: 7.6570 - val_accuracy: 0.4375\n",
            "Epoch 4/5\n",
            "256/256 [==============================] - 74s 290ms/step - loss: 5.2161 - accuracy: 0.5117 - val_loss: 0.4531 - val_accuracy: 0.9688\n",
            "Epoch 5/5\n",
            "256/256 [==============================] - 75s 292ms/step - loss: 0.4400 - accuracy: 0.8398 - val_loss: 0.0859 - val_accuracy: 1.0000\n"
          ],
          "name": "stdout"
        }
      ]
    },
    {
      "cell_type": "code",
      "metadata": {
        "id": "7E1fX0KebO-A",
        "colab_type": "code",
        "outputId": "0f7b49f5-f52d-4e4e-8ac1-b9d71fe816a2",
        "colab": {
          "base_uri": "https://localhost:8080/",
          "height": 51
        }
      },
      "source": [
        "\n",
        "score = model.evaluate(x_test, y_test, verbose=0)\n",
        "print('Test score:', score[0]) #loss\n",
        "print('Test accuracy:', score[1])"
      ],
      "execution_count": 17,
      "outputs": [
        {
          "output_type": "stream",
          "text": [
            "Test score: 0.0774880200624466\n",
            "Test accuracy: 1.0\n"
          ],
          "name": "stdout"
        }
      ]
    },
    {
      "cell_type": "code",
      "metadata": {
        "id": "i2B-eIV-CZrj",
        "colab_type": "code",
        "outputId": "07dd5246-ebbf-4167-f72e-35be8e003c4d",
        "colab": {
          "base_uri": "https://localhost:8080/",
          "height": 34
        }
      },
      "source": [
        "predicted =np.array(model.predict(x_test))\n",
        "\n",
        "ynew = model.predict_classes(x_test)\n",
        "\n",
        "Acc=accuracy_score(y_test, ynew)\n",
        "print(\"accuracy : \",Acc)"
      ],
      "execution_count": 18,
      "outputs": [
        {
          "output_type": "stream",
          "text": [
            "accuracy :  1.0\n"
          ],
          "name": "stdout"
        }
      ]
    },
    {
      "cell_type": "code",
      "metadata": {
        "id": "IWmexKlijTjP",
        "colab_type": "code",
        "outputId": "b0e7be1b-a35d-4bd1-8679-40c0744f71ca",
        "colab": {
          "base_uri": "https://localhost:8080/",
          "height": 590
        }
      },
      "source": [
        "print(history.history.keys())\n",
        "\n",
        "plt.plot(history.history['accuracy'])\n",
        "plt.plot(history.history['val_accuracy'])\n",
        "plt.title('model accuracy')\n",
        "plt.ylabel('accuracy')\n",
        "plt.xlabel('epoch')\n",
        "plt.legend(['train', 'test'], loc='upper left')\n",
        "plt.show()\n",
        "\n",
        "plt.plot(history.history['loss'])\n",
        "plt.plot(history.history['val_loss'])\n",
        "plt.title('model loss')\n",
        "plt.ylabel('loss')\n",
        "plt.xlabel('epoch')\n",
        "plt.legend(['train', 'test'], loc='upper left')\n",
        "plt.show()"
      ],
      "execution_count": 0,
      "outputs": [
        {
          "output_type": "stream",
          "text": [
            "dict_keys(['val_loss', 'val_accuracy', 'loss', 'accuracy'])\n"
          ],
          "name": "stdout"
        },
        {
          "output_type": "display_data",
          "data": {
            "image/png": "[encoded data removed]",
            "text/plain": [
              "<Figure size 432x288 with 1 Axes>"
            ]
          },
          "metadata": {
            "tags": [],
            "needs_background": "light"
          }
        },
        {
          "output_type": "display_data",
          "data": {
            "image/png": "[encoded data removed]",
            "text/plain": [
              "<Figure size 432x288 with 1 Axes>"
            ]
          },
          "metadata": {
            "tags": [],
            "needs_background": "light"
          }
        }
      ]
    },
    {
      "cell_type": "code",
      "metadata": {
        "id": "AHTFvG9tCBP0",
        "colab_type": "code",
        "outputId": "d812d09e-81fb-44f8-e7e0-0f03723f08be",
        "colab": {
          "base_uri": "https://localhost:8080/",
          "height": 34
        }
      },
      "source": [
        "my_model.save(\"model.h5\")\n",
        "print(\"Saved model to disk\")"
      ],
      "execution_count": 0,
      "outputs": [
        {
          "output_type": "stream",
          "text": [
            "Saved model to disk\n"
          ],
          "name": "stdout"
        }
      ]
    },
    {
      "cell_type": "code",
      "metadata": {
        "id": "PVJSJmOdB6AC",
        "colab_type": "code",
        "colab": {}
      },
      "source": [
        "from keras.models import load_model\n",
        "face_model = load_model('/content/model.h5')\n"
      ],
      "execution_count": 0,
      "outputs": []
    },
    {
      "cell_type": "code",
      "metadata": {
        "id": "nvPYFJ3NT3Ri",
        "colab_type": "code",
        "colab": {}
      },
      "source": [
        "def get_embedding(model, face):\n",
        "    # scale pixel values\n",
        "    face = face.astype('float32')\n",
        "    # standardization\n",
        "    mean, std = face.mean(), face.std()\n",
        "    face = (face-mean)/std\n",
        "    # transfer face into one sample (3 dimension to 4 dimension)\n",
        "    sample = np.expand_dims(face, axis=0)\n",
        "    # make prediction to get embedding\n",
        "    yhat = my_model.predict(sample)\n",
        "    return yhat[0]\n",
        "    \n",
        "# convert each face in the train set into embedding\n",
        "x_train = list()\n",
        "for face in trainX:\n",
        "    emd = get_embedding(face_model, face)\n",
        "    x_train.append(emd)\n",
        "emd.shape    "
      ],
      "execution_count": 0,
      "outputs": []
    }
  ]
}